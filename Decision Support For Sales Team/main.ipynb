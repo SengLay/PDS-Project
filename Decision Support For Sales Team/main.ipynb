{
 "cells": [
  {
   "cell_type": "markdown",
   "metadata": {
    "cell_id": "274b2bbfd942444d904206a4a5b0d5e4",
    "deepnote_cell_type": "markdown"
   },
   "source": [
    "1. To provide sales insights that are not visible before for the sales team for decision support.\n",
    " Just follow along and complete the tasks outlined below.\n",
    " Finding 5 sales insights of sales for products:\n",
    " 1. Sales trends.\n",
    " 2. Top 5products by sales.\n",
    " 3. 5mostselling products in terms of quantity.\n",
    " 4. The most commonly used modeofshipment.\n",
    " 5. The most profitable categories and subcategories.\n",
    " Optional Tasks:\n",
    " 6. Store the dataset into a database management system like MySQL or PostgreSQL.\n",
    " 7. Build a dashboar"
   ]
  },
  {
   "cell_type": "code",
   "execution_count": 6,
   "metadata": {
    "cell_id": "6dff1e7e2a4c4bd5a1c5f2fb1c68893d",
    "deepnote_cell_type": "code",
    "execution_context_id": "5ec9c720-77ee-45b5-88f1-a33dee00566f",
    "execution_millis": 2816,
    "execution_start": 1733200211844,
    "source_hash": "ea22c22c"
   },
   "outputs": [
    {
     "name": "stdout",
     "output_type": "stream",
     "text": [
      "Collecting openpyxl\n",
      "  Downloading openpyxl-3.1.5-py2.py3-none-any.whl.metadata (2.5 kB)\n",
      "Collecting et-xmlfile (from openpyxl)\n",
      "  Downloading et_xmlfile-2.0.0-py3-none-any.whl.metadata (2.7 kB)\n",
      "Downloading openpyxl-3.1.5-py2.py3-none-any.whl (250 kB)\n",
      "\u001b[2K   \u001b[90m━━━━━━━━━━━━━━━━━━━━━━━━━━━━━━━━━━━━━━━━\u001b[0m \u001b[32m250.9/250.9 kB\u001b[0m \u001b[31m32.0 MB/s\u001b[0m eta \u001b[36m0:00:00\u001b[0m\n",
      "\u001b[?25hDownloading et_xmlfile-2.0.0-py3-none-any.whl (18 kB)\n",
      "Installing collected packages: et-xmlfile, openpyxl\n",
      "Successfully installed et-xmlfile-2.0.0 openpyxl-3.1.5\n",
      "\n",
      "\u001b[1m[\u001b[0m\u001b[34;49mnotice\u001b[0m\u001b[1;39;49m]\u001b[0m\u001b[39;49m A new release of pip is available: \u001b[0m\u001b[31;49m24.0\u001b[0m\u001b[39;49m -> \u001b[0m\u001b[32;49m24.3.1\u001b[0m\n",
      "\u001b[1m[\u001b[0m\u001b[34;49mnotice\u001b[0m\u001b[1;39;49m]\u001b[0m\u001b[39;49m To update, run: \u001b[0m\u001b[32;49mpip install --upgrade pip\u001b[0m\n"
     ]
    }
   ],
   "source": [
    "!pip install openpyxl"
   ]
  },
  {
   "cell_type": "code",
   "execution_count": 7,
   "metadata": {
    "cell_id": "6e9348edefaf423896ee458abb6dddf0",
    "deepnote_cell_type": "code",
    "execution_context_id": "5ec9c720-77ee-45b5-88f1-a33dee00566f",
    "execution_millis": 737,
    "execution_start": 1733200227324,
    "source_hash": "18c14dd0"
   },
   "outputs": [
    {
     "data": {
      "text/plain": [
       "['Orders', 'Returns', 'Person']"
      ]
     },
     "execution_count": 7,
     "metadata": {},
     "output_type": "execute_result"
    }
   ],
   "source": [
    "import pandas as pd\n",
    "\n",
    "# Load the Excel file to analyze the data\n",
    "file_path = '/work/1-sales_records.xlsx'\n",
    "data = pd.ExcelFile(file_path)\n",
    "\n",
    "# Display sheet names to understand the structure of the file\n",
    "data.sheet_names"
   ]
  },
  {
   "cell_type": "code",
   "execution_count": 8,
   "metadata": {
    "cell_id": "fe0b417c82f3442ab458ae4e8c9e92b6",
    "deepnote_cell_type": "code",
    "execution_context_id": "5ec9c720-77ee-45b5-88f1-a33dee00566f",
    "execution_millis": 8158,
    "execution_start": 1733200233800,
    "source_hash": "d5c4c991"
   },
   "outputs": [
    {
     "name": "stdout",
     "output_type": "stream",
     "text": [
      "<class 'pandas.core.frame.DataFrame'>\n",
      "RangeIndex: 51290 entries, 0 to 51289\n",
      "Data columns (total 21 columns):\n",
      " #   Column          Non-Null Count  Dtype         \n",
      "---  ------          --------------  -----         \n",
      " 0   order_id        51290 non-null  object        \n",
      " 1   order_date      51290 non-null  datetime64[ns]\n",
      " 2   ship_date       51290 non-null  datetime64[ns]\n",
      " 3   ship_mode       51290 non-null  object        \n",
      " 4   customer_name   51290 non-null  object        \n",
      " 5   segment         51290 non-null  object        \n",
      " 6   state           51290 non-null  object        \n",
      " 7   country         51290 non-null  object        \n",
      " 8   market          51290 non-null  object        \n",
      " 9   region          51290 non-null  object        \n",
      " 10  product_id      51290 non-null  object        \n",
      " 11  category        51290 non-null  object        \n",
      " 12  sub_category    51290 non-null  object        \n",
      " 13  product_name    51290 non-null  object        \n",
      " 14  sales           51290 non-null  float64       \n",
      " 15  quantity        51290 non-null  int64         \n",
      " 16  discount        51290 non-null  float64       \n",
      " 17  profit          51290 non-null  float64       \n",
      " 18  shipping_cost   51290 non-null  float64       \n",
      " 19  order_priority  51290 non-null  object        \n",
      " 20  year            51290 non-null  int64         \n",
      "dtypes: datetime64[ns](2), float64(4), int64(2), object(13)\n",
      "memory usage: 8.2+ MB\n"
     ]
    },
    {
     "data": {
      "text/plain": [
       "(          order_id order_date  ship_date       ship_mode    customer_name  \\\n",
       " 0     AG-2019-2040 2019-01-01 2019-01-06  Standard Class  Toby Braunhardt   \n",
       " 1    IN-2019-47883 2019-01-01 2019-01-08  Standard Class      Joseph Holt   \n",
       " 2     HU-2019-1220 2019-01-01 2019-01-05    Second Class    Annie Thurman   \n",
       " 3  IT-2019-3647632 2019-01-01 2019-01-05    Second Class     Eugene Moren   \n",
       " 4    IN-2019-47883 2019-01-01 2019-01-08  Standard Class      Joseph Holt   \n",
       " \n",
       "        segment            state    country  market   region  ...  \\\n",
       " 0     Consumer      Constantine    Algeria  Africa   Africa  ...   \n",
       " 1     Consumer  New South Wales  Australia    APAC  Oceania  ...   \n",
       " 2     Consumer         Budapest    Hungary    EMEA     EMEA  ...   \n",
       " 3  Home Office        Stockholm     Sweden      EU    North  ...   \n",
       " 4     Consumer  New South Wales  Australia    APAC  Oceania  ...   \n",
       " \n",
       "           category sub_category                 product_name    sales  \\\n",
       " 0  Office Supplies      Storage          Tenex Lockers, Blue  408.300   \n",
       " 1  Office Supplies     Supplies     Acme Trimmer, High Speed  120.366   \n",
       " 2  Office Supplies      Storage      Tenex Box, Single Width   66.120   \n",
       " 3  Office Supplies        Paper  Enermax Note Cards, Premium   44.865   \n",
       " 4        Furniture  Furnishings   Eldon Light Bulb, Duo Pack  113.670   \n",
       " \n",
       "    quantity  discount   profit  shipping_cost  order_priority  year  \n",
       " 0         2       0.0  106.140          35.46          Medium  2019  \n",
       " 1         3       0.1   36.036           9.72          Medium  2019  \n",
       " 2         4       0.0   29.640           8.17            High  2019  \n",
       " 3         3       0.5  -26.055           4.82            High  2019  \n",
       " 4         5       0.1   37.770           4.70          Medium  2019  \n",
       " \n",
       " [5 rows x 21 columns],\n",
       " None)"
      ]
     },
     "execution_count": 8,
     "metadata": {},
     "output_type": "execute_result"
    }
   ],
   "source": [
    "# Load the 'Orders' sheet to inspect its structure and contents\n",
    "orders_data = data.parse('Orders')\n",
    "\n",
    "# Display the first few rows to understand the data\n",
    "orders_data.head(), orders_data.info()"
   ]
  },
  {
   "cell_type": "markdown",
   "metadata": {
    "cell_id": "c7ed78e1101b492fa911f803eb60daa2",
    "deepnote_cell_type": "markdown"
   },
   "source": [
    "Sales Trends:\n",
    "\n",
    "2019: $2.26M\n",
    "2020: $2.68M\n",
    "2021: $3.41M\n",
    "2022: $4.30M\n",
    "Sales have been steadily increasing year over year."
   ]
  },
  {
   "cell_type": "code",
   "execution_count": 10,
   "metadata": {
    "cell_id": "0e1ef1141fe8423eb51692b82052d18c",
    "deepnote_cell_type": "code",
    "execution_context_id": "5ec9c720-77ee-45b5-88f1-a33dee00566f",
    "execution_millis": 0,
    "execution_start": 1733200429661,
    "source_hash": "9d81503e"
   },
   "outputs": [
    {
     "data": {
      "text/plain": [
       "year\n",
       "2019    2.259451e+06\n",
       "2020    2.677439e+06\n",
       "2021    3.405746e+06\n",
       "2022    4.299866e+06\n",
       "Name: sales, dtype: float64"
      ]
     },
     "execution_count": 10,
     "metadata": {},
     "output_type": "execute_result"
    }
   ],
   "source": [
    "# 1. Sales Trends: Aggregating sales by year\n",
    "sales_trends = orders_data.groupby('year')['sales'].sum()\n",
    "\n",
    "sales_trends"
   ]
  },
  {
   "cell_type": "markdown",
   "metadata": {
    "cell_id": "c6e3980b351348f58c3dccbbbd0b40c3",
    "deepnote_cell_type": "markdown"
   },
   "source": [
    "Top 5 Products by Sales:\n",
    "\n",
    "Apple Smart Phone, Full Size: $86,936.78\n",
    "Cisco Smart Phone, Full Size: $76,441.53\n",
    "Motorola Smart Phone, Full Size: $73,156.30\n",
    "Nokia Smart Phone, Full Size: $71,904.56\n",
    "Canon imageCLASS 2200 Advanced Copier: $61,599.82"
   ]
  },
  {
   "cell_type": "code",
   "execution_count": 11,
   "metadata": {
    "cell_id": "36af39c4c0cf415f97cf8f8f9877f55f",
    "deepnote_cell_type": "code",
    "execution_context_id": "5ec9c720-77ee-45b5-88f1-a33dee00566f",
    "execution_millis": 7,
    "execution_start": 1733200433140,
    "source_hash": "faca9175"
   },
   "outputs": [
    {
     "data": {
      "text/plain": [
       "product_name\n",
       "Apple Smart Phone, Full Size             86935.7786\n",
       "Cisco Smart Phone, Full Size             76441.5306\n",
       "Motorola Smart Phone, Full Size          73156.3030\n",
       "Nokia Smart Phone, Full Size             71904.5555\n",
       "Canon imageCLASS 2200 Advanced Copier    61599.8240\n",
       "Name: sales, dtype: float64"
      ]
     },
     "execution_count": 11,
     "metadata": {},
     "output_type": "execute_result"
    }
   ],
   "source": [
    "# 2. Top 5 products by sales\n",
    "top_5_products_sales = orders_data.groupby('product_name')['sales'].sum().nlargest(5)\n",
    "\n",
    "top_5_products_sales"
   ]
  },
  {
   "cell_type": "markdown",
   "metadata": {
    "cell_id": "652dc0402caa48cb9edcc73bb44a3db1",
    "deepnote_cell_type": "markdown"
   },
   "source": [
    "Top 5 Most Sold Products by Quantity:\n",
    "\n",
    "Staples: 876 units\n",
    "Cardinal Index Tab, Clear: 337 units\n",
    "Eldon File Cart, Single Width: 321 units\n",
    "Rogers File Cart, Single Width: 262 units\n",
    "Sanford Pencil Sharpener, Water Color: 259 units"
   ]
  },
  {
   "cell_type": "code",
   "execution_count": 12,
   "metadata": {
    "cell_id": "720e47a6e90a4404ab1d624fbde15ff1",
    "deepnote_cell_type": "code",
    "execution_context_id": "5ec9c720-77ee-45b5-88f1-a33dee00566f",
    "execution_millis": 7,
    "execution_start": 1733200437730,
    "source_hash": "2793c9aa"
   },
   "outputs": [
    {
     "data": {
      "text/plain": [
       "product_name\n",
       "Staples                                  876\n",
       "Cardinal Index Tab, Clear                337\n",
       "Eldon File Cart, Single Width            321\n",
       "Rogers File Cart, Single Width           262\n",
       "Sanford Pencil Sharpener, Water Color    259\n",
       "Name: quantity, dtype: int64"
      ]
     },
     "execution_count": 12,
     "metadata": {},
     "output_type": "execute_result"
    }
   ],
   "source": [
    "# 3. Top 5 most sold products by quantity\n",
    "top_5_products_quantity = orders_data.groupby('product_name')['quantity'].sum().nlargest(5)\n",
    "\n",
    "top_5_products_quantity"
   ]
  },
  {
   "cell_type": "markdown",
   "metadata": {
    "cell_id": "d22c213b52e54d85bec4a78ce9d11d5b",
    "deepnote_cell_type": "markdown"
   },
   "source": [
    "Most Common Mode of Shipment:\n",
    "\n",
    "Standard Class is the most frequently used shipping mode."
   ]
  },
  {
   "cell_type": "code",
   "execution_count": 13,
   "metadata": {
    "cell_id": "ba0327972823423195b9171c7d9dbc60",
    "deepnote_cell_type": "code",
    "execution_context_id": "5ec9c720-77ee-45b5-88f1-a33dee00566f",
    "execution_millis": 1,
    "execution_start": 1733200441745,
    "source_hash": "77071640"
   },
   "outputs": [
    {
     "data": {
      "text/plain": [
       "'Standard Class'"
      ]
     },
     "execution_count": 13,
     "metadata": {},
     "output_type": "execute_result"
    }
   ],
   "source": [
    "# 4. Most commonly used mode of shipment\n",
    "most_common_ship_mode = orders_data['ship_mode'].value_counts().idxmax()\n",
    "\n",
    "most_common_ship_mode"
   ]
  },
  {
   "cell_type": "markdown",
   "metadata": {
    "cell_id": "74a0b05054e14e0cb65e1ceb6b5b3676",
    "deepnote_cell_type": "markdown"
   },
   "source": [
    "Most Profitable Categories and Subcategories:\n",
    "\n",
    "Technology > Copiers: $258,567.55\n",
    "Technology > Phones: $216,717.01\n",
    "Furniture > Bookcases: $161,924.42\n",
    "Furniture > Chairs: $141,973.80\n",
    "Office Supplies > Appliances: $141,680.59"
   ]
  },
  {
   "cell_type": "code",
   "execution_count": 14,
   "metadata": {
    "cell_id": "42dc379666e74a63b83ed91d92ab2de5",
    "deepnote_cell_type": "code",
    "execution_context_id": "5ec9c720-77ee-45b5-88f1-a33dee00566f",
    "execution_millis": 1,
    "execution_start": 1733200446756,
    "source_hash": "7277085c"
   },
   "outputs": [
    {
     "data": {
      "text/plain": [
       "category         sub_category\n",
       "Technology       Copiers         258567.54818\n",
       "                 Phones          216717.00580\n",
       "Furniture        Bookcases       161924.41950\n",
       "                 Chairs          141973.79750\n",
       "Office Supplies  Appliances      141680.58940\n",
       "Name: profit, dtype: float64"
      ]
     },
     "execution_count": 14,
     "metadata": {},
     "output_type": "execute_result"
    }
   ],
   "source": [
    "# 5. Most profitable categories and subcategories\n",
    "profitability = orders_data.groupby(['category', 'sub_category'])['profit'].sum().sort_values(ascending=False)\n",
    "top_profitable_categories = profitability.head(5)\n",
    "\n",
    "top_profitable_categories\n"
   ]
  },
  {
   "cell_type": "code",
   "execution_count": null,
   "metadata": {
    "cell_id": "bedfacb0d09c4d819d814296603182ee",
    "deepnote_cell_type": "code"
   },
   "outputs": [],
   "source": [
    "\"\"\"\n",
    "CREATE DATABASE SalesDB;\n",
    "\n",
    "USE SalesDB;\n",
    "\n",
    "CREATE TABLE Orders (\n",
    "    order_id VARCHAR(255),\n",
    "    order_date DATE,\n",
    "    ship_date DATE,\n",
    "    ship_mode VARCHAR(255),\n",
    "    customer_name VARCHAR(255),\n",
    "    segment VARCHAR(255),\n",
    "    state VARCHAR(255),\n",
    "    country VARCHAR(255),\n",
    "    market VARCHAR(255),\n",
    "    region VARCHAR(255),\n",
    "    product_id VARCHAR(255),\n",
    "    category VARCHAR(255),\n",
    "    sub_category VARCHAR(255),\n",
    "    product_name VARCHAR(255),\n",
    "    sales FLOAT,\n",
    "    quantity INT,\n",
    "    discount FLOAT,\n",
    "    profit FLOAT,\n",
    "    shipping_cost FLOAT,\n",
    "    order_priority VARCHAR(255),\n",
    "    year INT\n",
    ");\n",
    "\"\"\""
   ]
  },
  {
   "cell_type": "markdown",
   "metadata": {},
   "source": [
    "Todo: Configuring database [working progress...]"
   ]
  },
  {
   "cell_type": "code",
   "execution_count": null,
   "metadata": {
    "cell_id": "f5aa7d21b7914ca780a1f66b4f8a3af8",
    "deepnote_cell_type": "code"
   },
   "outputs": [],
   "source": [
    "\"\"\"\n",
    "\n",
    "import pandas as pd\n",
    "import mysql.connector\n",
    "\n",
    "# Load the dataset\n",
    "file_path = '/mnt/data/1-sales_records.xlsx'\n",
    "orders_data = pd.read_excel(file_path, sheet_name=\"Orders\")\n",
    "\n",
    "# Connect to MySQL\n",
    "conn = mysql.connector.connect(\n",
    "    host=\"localhost\",\n",
    "    user=\"your_username\",\n",
    "    password=\"your_password\",\n",
    "    database=\"SalesDB\"\n",
    ")\n",
    "cursor = conn.cursor()\n",
    "\n",
    "# Insert data into the Orders table\n",
    "insert_query = \"\"\"\n",
    "INSERT INTO Orders (\n",
    "    order_id, order_date, ship_date, ship_mode, customer_name, segment, state, country, \n",
    "    market, region, product_id, category, sub_category, product_name, sales, quantity, \n",
    "    discount, profit, shipping_cost, order_priority, year\n",
    ") VALUES (%s, %s, %s, %s, %s, %s, %s, %s, %s, %s, %s, %s, %s, %s, %s, %s, %s, %s, %s, %s, %s)\n",
    "\"\"\"\n",
    "\n",
    "for _, row in orders_data.iterrows():\n",
    "    cursor.execute(insert_query, tuple(row))\n",
    "\n",
    "conn.commit()\n",
    "cursor.close()\n",
    "conn.close()\n",
    "print(\"Data successfully inserted into MySQL database!\")\n",
    "\n",
    "\"\"\""
   ]
  }
 ],
 "metadata": {
  "deepnote_notebook_id": "df2ef38a386241c58206b2423aa30e48",
  "kernelspec": {
   "display_name": "Python 3",
   "language": "python",
   "name": "python3"
  },
  "language_info": {
   "name": "python",
   "version": "3.11.9"
  }
 },
 "nbformat": 4,
 "nbformat_minor": 0
}
